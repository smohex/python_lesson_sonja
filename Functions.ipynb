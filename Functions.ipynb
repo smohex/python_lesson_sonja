{
 "cells": [
  {
   "cell_type": "markdown",
   "id": "c6bf34a4",
   "metadata": {},
   "source": [
    "# Funktionen erstellen in Python"
   ]
  },
  {
   "cell_type": "code",
   "execution_count": 25,
   "id": "f087a11e",
   "metadata": {},
   "outputs": [],
   "source": [
    "dirty_isbns = [\n",
    "    \" ISBN 978-1449369415 \", \n",
    "    \"ISBN___978-1491946008 \",\n",
    "    \"ISBN 978-1593276034\"]"
   ]
  },
  {
   "cell_type": "code",
   "execution_count": 4,
   "id": "c7e47c5c",
   "metadata": {},
   "outputs": [
    {
     "name": "stdout",
     "output_type": "stream",
     "text": [
      " ISBN 978-1449369415 \n"
     ]
    }
   ],
   "source": [
    "# mit def wird eingeleitet, dass eine neue Funktion definiert wird, dann der Name\n",
    "def clean_isbn():\n",
    "    isbn = \" ISBN 978-1449369415 \"\n",
    "    print(isbn)\n",
    "    \n",
    "clean_isbn()"
   ]
  },
  {
   "cell_type": "code",
   "execution_count": 6,
   "id": "7626b292",
   "metadata": {},
   "outputs": [
    {
     "name": "stdout",
     "output_type": "stream",
     "text": [
      "978-1449369415\n"
     ]
    }
   ],
   "source": [
    "def clean_isbn():\n",
    "    isbn = \" ISBN 978-1449369415 \"\n",
    "    isbn = isbn.replace(\"ISBN\", \"\") # ersetzen von werten. Wenn ISBN genutzt wird, wird das durch Leerzeichen ersetzt\n",
    "    isbn = isbn.strip() # nimmt am Anfang und am Ende Leerzeichen weg\n",
    "    \n",
    "    print(isbn)\n",
    "    \n",
    "clean_isbn()"
   ]
  },
  {
   "cell_type": "code",
   "execution_count": 7,
   "id": "bbe604b1",
   "metadata": {},
   "outputs": [
    {
     "ename": "TypeError",
     "evalue": "clean_isbn() missing 1 required positional argument: 'isbn'",
     "output_type": "error",
     "traceback": [
      "\u001b[1;31m---------------------------------------------------------------------------\u001b[0m",
      "\u001b[1;31mTypeError\u001b[0m                                 Traceback (most recent call last)",
      "\u001b[1;32m<ipython-input-7-b7c58594e4ee>\u001b[0m in \u001b[0;36m<module>\u001b[1;34m\u001b[0m\n\u001b[0;32m      6\u001b[0m     \u001b[0mprint\u001b[0m\u001b[1;33m(\u001b[0m\u001b[0misbn\u001b[0m\u001b[1;33m)\u001b[0m\u001b[1;33m\u001b[0m\u001b[1;33m\u001b[0m\u001b[0m\n\u001b[0;32m      7\u001b[0m \u001b[1;33m\u001b[0m\u001b[0m\n\u001b[1;32m----> 8\u001b[1;33m \u001b[0mclean_isbn\u001b[0m\u001b[1;33m(\u001b[0m\u001b[1;33m)\u001b[0m \u001b[1;31m# wenn hier nichts steht, wird die Funktion ohne Argument aufgerufen, daher funktioniert sie hier nicht.\u001b[0m\u001b[1;33m\u001b[0m\u001b[1;33m\u001b[0m\u001b[0m\n\u001b[0m",
      "\u001b[1;31mTypeError\u001b[0m: clean_isbn() missing 1 required positional argument: 'isbn'"
     ]
    }
   ],
   "source": [
    "def clean_isbn(isbn): # isbn was übergeben wird (positional argument)\n",
    "    \n",
    "    isbn = isbn.replace(\"ISBN\", \"\") # ersetzen von werten. Wenn ISBN genutzt wird, wird das durch Leerzeichen ersetzt\n",
    "    isbn = isbn.strip() # nimmt am Anfang und am Ende Leerzeichen weg\n",
    "    \n",
    "    print(isbn)\n",
    "    \n",
    "clean_isbn() # wenn hier nichts steht, wird die Funktion ohne Argument aufgerufen, daher funktioniert sie hier nicht."
   ]
  },
  {
   "cell_type": "code",
   "execution_count": 8,
   "id": "dac5bc60",
   "metadata": {},
   "outputs": [
    {
     "name": "stdout",
     "output_type": "stream",
     "text": [
      "978-1449369415\n"
     ]
    }
   ],
   "source": [
    "def clean_isbn(isbn): # isbn was übergeben wird (positional argument)\n",
    "    \n",
    "    isbn = isbn.replace(\"ISBN\", \"\") # ersetzen von werten. Wenn ISBN genutzt wird, wird das durch Leerzeichen ersetzt\n",
    "    isbn = isbn.strip() # nimmt am Anfang und am Ende Leerzeichen weg\n",
    "    \n",
    "    print(isbn)\n",
    "    \n",
    "clean_isbn(\" ISBN 978-1449369415 \")"
   ]
  },
  {
   "cell_type": "code",
   "execution_count": 13,
   "id": "a9de9b0b",
   "metadata": {},
   "outputs": [],
   "source": [
    "def clean_isbn(isbn): # isbn was übergeben wird (positional argument)\n",
    "    \n",
    "    isbn = isbn.replace(\"ISBN\", \"\") # ersetzen von werten. Wenn ISBN genutzt wird, wird das durch Leerzeichen ersetzt\n",
    "    isbn = isbn.strip() # nimmt am Anfang und am Ende Leerzeichen weg\n",
    "    return isbn # gibt den Wert der Funktion zurück ohne ihn zu printen, so dass er nachgenutzt werden kann in einer Variablen\n",
    "    \n",
    "cleaned_isbn = clean_isbn(\" ISBN 978-1449369415 \")"
   ]
  },
  {
   "cell_type": "code",
   "execution_count": 24,
   "id": "b0aa2322",
   "metadata": {},
   "outputs": [
    {
     "name": "stdout",
     "output_type": "stream",
     "text": [
      "Saubere ISBN: 978-1449369415\n"
     ]
    }
   ],
   "source": [
    "print(\"Saubere ISBN: \" + cleaned_isbn)"
   ]
  },
  {
   "cell_type": "code",
   "execution_count": 23,
   "id": "705c1b34",
   "metadata": {},
   "outputs": [
    {
     "name": "stdout",
     "output_type": "stream",
     "text": [
      "4\n"
     ]
    }
   ],
   "source": [
    "for dirty_isbns in dirty_isbns:\n",
    "    print(clean_isbn(dirty_isbns))"
   ]
  },
  {
   "cell_type": "code",
   "execution_count": 26,
   "id": "c6bf20bf",
   "metadata": {},
   "outputs": [
    {
     "name": "stdout",
     "output_type": "stream",
     "text": [
      "cleanded: 978-1449369415\n",
      "cleanded: ___978-1491946008\n",
      "cleanded: 978-1593276034\n"
     ]
    }
   ],
   "source": [
    "for dirty_isbns in dirty_isbns:\n",
    "    print(\"cleanded: \" + clean_isbn(dirty_isbns))"
   ]
  },
  {
   "cell_type": "code",
   "execution_count": null,
   "id": "6743d629",
   "metadata": {},
   "outputs": [],
   "source": []
  }
 ],
 "metadata": {
  "kernelspec": {
   "display_name": "Python 3",
   "language": "python",
   "name": "python3"
  },
  "language_info": {
   "codemirror_mode": {
    "name": "ipython",
    "version": 3
   },
   "file_extension": ".py",
   "mimetype": "text/x-python",
   "name": "python",
   "nbconvert_exporter": "python",
   "pygments_lexer": "ipython3",
   "version": "3.8.8"
  }
 },
 "nbformat": 4,
 "nbformat_minor": 5
}
